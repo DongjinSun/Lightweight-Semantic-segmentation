{
 "cells": [
  {
   "cell_type": "code",
   "execution_count": null,
   "id": "264848ae-7258-4223-9540-d66136534cd4",
   "metadata": {},
   "outputs": [],
   "source": [
    "a=1"
   ]
  },
  {
   "cell_type": "code",
   "execution_count": null,
   "id": "9f2363e4-a516-406a-b5b7-a49952c65796",
   "metadata": {},
   "outputs": [],
   "source": []
  }
 ],
 "metadata": {
  "kernelspec": {
   "display_name": "Python 3 (ipykernel)",
   "language": "python",
   "name": "python3"
  },
  "language_info": {
   "name": ""
  }
 },
 "nbformat": 4,
 "nbformat_minor": 5
}
